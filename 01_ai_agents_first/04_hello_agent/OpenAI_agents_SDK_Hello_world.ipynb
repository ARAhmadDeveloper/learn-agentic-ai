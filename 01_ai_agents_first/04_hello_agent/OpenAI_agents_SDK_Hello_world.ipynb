{
  "cells": [
    {
      "cell_type": "markdown",
      "metadata": {
        "id": "view-in-github",
        "colab_type": "text"
      },
      "source": [
        "<a href=\"https://colab.research.google.com/github/ARAhmadDeveloper/learn-agentic-ai/blob/main/01_ai_agents_first/04_hello_agent/OpenAI_agents_SDK_Hello_world.ipynb\" target=\"_parent\"><img src=\"https://colab.research.google.com/assets/colab-badge.svg\" alt=\"Open In Colab\"/></a>"
      ]
    },
    {
      "cell_type": "markdown",
      "metadata": {
        "id": "30327e3a"
      },
      "source": [
        "# 🚀 Exploring the openai-agents Library with Gemini\n",
        "This notebook shows how to use the openai-agents library with Gemini API to build conversational agents—covering two execution methods"
      ]
    },
    {
      "cell_type": "markdown",
      "metadata": {
        "id": "wd12XkqwSRxc"
      },
      "source": [
        "# 📦 installation"
      ]
    },
    {
      "cell_type": "code",
      "execution_count": 1,
      "metadata": {
        "id": "8U2DuZP0_1Iu",
        "outputId": "8ed40f03-52c5-47d9-88f6-653a4b89fca4",
        "colab": {
          "base_uri": "https://localhost:8080/"
        }
      },
      "outputs": [
        {
          "output_type": "stream",
          "name": "stdout",
          "text": [
            "\u001b[2K     \u001b[90m━━━━━━━━━━━━━━━━━━━━━━━━━━━━━━━━━━━━━━━━\u001b[0m \u001b[32m68.2/68.2 kB\u001b[0m \u001b[31m2.2 MB/s\u001b[0m eta \u001b[36m0:00:00\u001b[0m\n",
            "\u001b[2K   \u001b[90m━━━━━━━━━━━━━━━━━━━━━━━━━━━━━━━━━━━━━━━━\u001b[0m \u001b[32m166.1/166.1 kB\u001b[0m \u001b[31m13.5 MB/s\u001b[0m eta \u001b[36m0:00:00\u001b[0m\n",
            "\u001b[2K   \u001b[90m━━━━━━━━━━━━━━━━━━━━━━━━━━━━━━━━━━━━━━━━\u001b[0m \u001b[32m138.7/138.7 kB\u001b[0m \u001b[31m11.8 MB/s\u001b[0m eta \u001b[36m0:00:00\u001b[0m\n",
            "\u001b[2K   \u001b[90m━━━━━━━━━━━━━━━━━━━━━━━━━━━━━━━━━━━━━━━━\u001b[0m \u001b[32m160.1/160.1 kB\u001b[0m \u001b[31m10.5 MB/s\u001b[0m eta \u001b[36m0:00:00\u001b[0m\n",
            "\u001b[2K   \u001b[90m━━━━━━━━━━━━━━━━━━━━━━━━━━━━━━━━━━━━━━━━\u001b[0m \u001b[32m786.8/786.8 kB\u001b[0m \u001b[31m19.5 MB/s\u001b[0m eta \u001b[36m0:00:00\u001b[0m\n",
            "\u001b[2K   \u001b[90m━━━━━━━━━━━━━━━━━━━━━━━━━━━━━━━━━━━━━━━━\u001b[0m \u001b[32m45.2/45.2 kB\u001b[0m \u001b[31m2.5 MB/s\u001b[0m eta \u001b[36m0:00:00\u001b[0m\n",
            "\u001b[?25h"
          ]
        }
      ],
      "source": [
        "!pip install -Uq openai-agents"
      ]
    },
    {
      "cell_type": "markdown",
      "metadata": {
        "id": "jL-reb6RR_H6"
      },
      "source": [
        "# 📦 Imports"
      ]
    },
    {
      "cell_type": "code",
      "execution_count": 3,
      "metadata": {
        "id": "OE_-gMwUDw8b"
      },
      "outputs": [],
      "source": [
        "import nest_asyncio\n",
        "nest_asyncio.apply()"
      ]
    },
    {
      "cell_type": "markdown",
      "metadata": {
        "id": "MywTysH-Rn2h"
      },
      "source": [
        "# 📦 Imports"
      ]
    },
    {
      "cell_type": "code",
      "execution_count": 4,
      "metadata": {
        "id": "dvNo75PtD5YL"
      },
      "outputs": [],
      "source": [
        "from agents import Agent, Runner, AsyncOpenAI, OpenAIChatCompletionsModel, set_tracing_disabled"
      ]
    },
    {
      "cell_type": "markdown",
      "metadata": {
        "id": "uO3deejXRZw8"
      },
      "source": [
        "# 🔐 Step 1: Setup for Api Keys"
      ]
    },
    {
      "cell_type": "code",
      "execution_count": 6,
      "metadata": {
        "id": "9p1ynoc0EDCx"
      },
      "outputs": [],
      "source": [
        "from google.colab import userdata\n",
        "gemini_api_key = userdata.get(\"GEMINI_API_KEY\")\n"
      ]
    },
    {
      "cell_type": "markdown",
      "metadata": {
        "id": "S4GITaFOP526"
      },
      "source": [
        "# 🌐  Step 2: Client Setup for Connecting to **Gemini**"
      ]
    },
    {
      "cell_type": "code",
      "execution_count": 7,
      "metadata": {
        "id": "IofWknGLEHHI"
      },
      "outputs": [],
      "source": [
        "# Tracing disabled\n",
        "set_tracing_disabled(disabled=True)\n",
        "\n",
        "# 1. Which LLM Service?\n",
        "external_client: AsyncOpenAI = AsyncOpenAI(\n",
        "    api_key=gemini_api_key,\n",
        "    base_url=\"https://generativelanguage.googleapis.com/v1beta/openai/\",\n",
        ")\n",
        "\n",
        "# 2. Which LLM Model?\n",
        "llm_model: OpenAIChatCompletionsModel = OpenAIChatCompletionsModel(\n",
        "    model=\"gemini-2.5-flash\",\n",
        "    openai_client=external_client\n",
        ")"
      ]
    },
    {
      "cell_type": "markdown",
      "metadata": {
        "id": "Upg62mcUJUB4"
      },
      "source": [
        "# 💬  Step 3 Running Agent Synchronously"
      ]
    },
    {
      "cell_type": "code",
      "execution_count": 8,
      "metadata": {
        "colab": {
          "base_uri": "https://localhost:8080/"
        },
        "collapsed": true,
        "id": "4QgfJqHZJV_M",
        "outputId": "16113aa6-d8f9-475a-f190-f02f437aae82"
      },
      "outputs": [
        {
          "output_type": "stream",
          "name": "stdout",
          "text": [
            "\n",
            "CALLING AGENT\n",
            "\n",
            "Learning math isn't just \"useful\" for AI agents; it's the fundamental language and operating system they run on. AI, particularly modern machine learning, is essentially applied mathematics.\n",
            "\n",
            "Here's why math is indispensable for AI agents:\n",
            "\n",
            "1.  **Data Representation and Manipulation (Linear Algebra):**\n",
            "    *   **Vectors and Matrices:** Almost all data an AI agent processes – images, text, audio, numerical datasets – are represented as vectors or matrices (tensors). Linear algebra provides the tools to store, organize, and manipulate this high-dimensional data efficiently.\n",
            "    *   **Neural Networks:** The core of deep learning models are layers of interconnected \"neurons,\" where information flows as matrix multiplications and vector additions. The weights and biases of a neural network are matrices and vectors that are adjusted during training.\n",
            "    *   **Transformations:** Operations like rotations, scaling, and projections (crucial for computer vision or dimensionality reduction like PCA) are all described and performed using linear algebra.\n",
            "\n",
            "2.  **Learning and Optimization (Calculus & Optimization Theory):**\n",
            "    *   **Gradient Descent:** This is the bedrock of how most machine learning models learn. Calculus (specifically, differential calculus) allows AI agents to compute the \"gradient\" of a loss function – essentially, the direction and magnitude of the steepest ascent or descent. By moving in the direction of the negative gradient, the agent minimizes its error and learns from data.\n",
            "    *   **Backpropagation:** The algorithm that allows neural networks to efficiently learn from their errors relies heavily on the chain rule from calculus to compute gradients and update weights across multiple layers.\n",
            "    *   **Optimization:** AI agents are constantly trying to find the \"best\" solution – whether it's minimizing a prediction error, maximizing a reward in reinforcement learning, or finding the optimal policy. Optimization theory provides the algorithms and principles for finding these optimal solutions under various constraints.\n",
            "\n",
            "3.  **Uncertainty and Inference (Probability & Statistics):**\n",
            "    *   **Real-World Noise:** The world is inherently noisy and uncertain. AI agents need to reason under this uncertainty. Probability theory provides the framework to quantify and manage this.\n",
            "    *   **Prediction and Classification:** Many AI models are built on probabilistic foundations (e.g., logistic regression, Naive Bayes, Gaussian Mixture Models). They output probabilities of a certain event or class membership.\n",
            "    *   **Bayesian Inference:** Allows agents to update their beliefs about the world based on new evidence, crucial for robust decision-making and filtering noise.\n",
            "    *   **Data Analysis and Evaluation:** Statistics enables agents (or their creators) to understand the underlying distribution of data, evaluate the performance of models, and make statistically significant conclusions.\n",
            "\n",
            "4.  **Decision Making and Reasoning (Discrete Math & Logic):**\n",
            "    *   **Algorithms and Complexity:** Discrete math (set theory, graph theory, combinatorics) provides the foundation for designing efficient algorithms, understanding their complexity (how they scale with data), and representing relationships between entities (e.g., knowledge graphs, search paths).\n",
            "    *   **Logic and Symbolic AI:** While deep learning is prominent, symbolic AI (rules-based systems, knowledge representation, expert systems) still relies on formal logic (propositional and predicate calculus) for reasoning and inference.\n",
            "    *   **Graph Theory:** Essential for pathfinding, social network analysis, and representing complex relationships within data.\n",
            "\n",
            "5.  **Problem Formulation and Rigor:**\n",
            "    *   **Precise Problem Definition:** Math provides the rigorous framework to precisely define problems (e.g., defining a loss function, formulating a reward signal, specifying constraints).\n",
            "    *   **Formal Proofs and Guarantees:** For critical applications, mathematical proofs can provide guarantees about the behavior, stability, or optimality of an AI system.\n",
            "\n",
            "In essence, AI agents don't \"learn math\" in the human sense of sitting in a classroom. Instead, their very construction, their ability to process information, learn from experience, make decisions, and interact with the world, is entirely predicated on mathematical principles and operations. Math is the blueprint, the building blocks, and the operational logic of artificial intelligence.\n"
          ]
        }
      ],
      "source": [
        "math_agent: Agent = Agent(name=\"MathAgent\",\n",
        "                     instructions=\"You are a helpful math assistant.\",\n",
        "                     model=llm_model) # gemini-2.5 as agent brain - chat completions\n",
        "\n",
        "result: Runner = Runner.run_sync(math_agent, \"why learn math for AI Agents?\")\n",
        "\n",
        "print(\"\\nCALLING AGENT\\n\")\n",
        "print(result.final_output)"
      ]
    },
    {
      "cell_type": "code",
      "execution_count": 9,
      "metadata": {
        "colab": {
          "base_uri": "https://localhost:8080/"
        },
        "collapsed": true,
        "id": "Z5oKiMPbd7BC",
        "outputId": "301e7cc9-ffa5-4096-df2a-1aff07271397"
      },
      "outputs": [
        {
          "output_type": "execute_result",
          "data": {
            "text/plain": [
              "RunResult(input='why learn math for AI Agents?', new_items=[MessageOutputItem(agent=Agent(name='MathAgent', handoff_description=None, tools=[], mcp_servers=[], mcp_config={}, instructions='You are a helpful math assistant.', prompt=None, handoffs=[], model=<agents.models.openai_chatcompletions.OpenAIChatCompletionsModel object at 0x7a63c6ffc190>, model_settings=ModelSettings(temperature=None, top_p=None, frequency_penalty=None, presence_penalty=None, tool_choice=None, parallel_tool_calls=None, truncation=None, max_tokens=None, reasoning=None, metadata=None, store=None, include_usage=None, response_include=None, top_logprobs=None, extra_query=None, extra_body=None, extra_headers=None, extra_args=None), input_guardrails=[], output_guardrails=[], output_type=None, hooks=None, tool_use_behavior='run_llm_again', reset_tool_choice=True), raw_item=ResponseOutputMessage(id='__fake_id__', content=[ResponseOutputText(annotations=[], text='Learning math isn\\'t just \"useful\" for AI agents; it\\'s the fundamental language and operating system they run on. AI, particularly modern machine learning, is essentially applied mathematics.\\n\\nHere\\'s why math is indispensable for AI agents:\\n\\n1.  **Data Representation and Manipulation (Linear Algebra):**\\n    *   **Vectors and Matrices:** Almost all data an AI agent processes – images, text, audio, numerical datasets – are represented as vectors or matrices (tensors). Linear algebra provides the tools to store, organize, and manipulate this high-dimensional data efficiently.\\n    *   **Neural Networks:** The core of deep learning models are layers of interconnected \"neurons,\" where information flows as matrix multiplications and vector additions. The weights and biases of a neural network are matrices and vectors that are adjusted during training.\\n    *   **Transformations:** Operations like rotations, scaling, and projections (crucial for computer vision or dimensionality reduction like PCA) are all described and performed using linear algebra.\\n\\n2.  **Learning and Optimization (Calculus & Optimization Theory):**\\n    *   **Gradient Descent:** This is the bedrock of how most machine learning models learn. Calculus (specifically, differential calculus) allows AI agents to compute the \"gradient\" of a loss function – essentially, the direction and magnitude of the steepest ascent or descent. By moving in the direction of the negative gradient, the agent minimizes its error and learns from data.\\n    *   **Backpropagation:** The algorithm that allows neural networks to efficiently learn from their errors relies heavily on the chain rule from calculus to compute gradients and update weights across multiple layers.\\n    *   **Optimization:** AI agents are constantly trying to find the \"best\" solution – whether it\\'s minimizing a prediction error, maximizing a reward in reinforcement learning, or finding the optimal policy. Optimization theory provides the algorithms and principles for finding these optimal solutions under various constraints.\\n\\n3.  **Uncertainty and Inference (Probability & Statistics):**\\n    *   **Real-World Noise:** The world is inherently noisy and uncertain. AI agents need to reason under this uncertainty. Probability theory provides the framework to quantify and manage this.\\n    *   **Prediction and Classification:** Many AI models are built on probabilistic foundations (e.g., logistic regression, Naive Bayes, Gaussian Mixture Models). They output probabilities of a certain event or class membership.\\n    *   **Bayesian Inference:** Allows agents to update their beliefs about the world based on new evidence, crucial for robust decision-making and filtering noise.\\n    *   **Data Analysis and Evaluation:** Statistics enables agents (or their creators) to understand the underlying distribution of data, evaluate the performance of models, and make statistically significant conclusions.\\n\\n4.  **Decision Making and Reasoning (Discrete Math & Logic):**\\n    *   **Algorithms and Complexity:** Discrete math (set theory, graph theory, combinatorics) provides the foundation for designing efficient algorithms, understanding their complexity (how they scale with data), and representing relationships between entities (e.g., knowledge graphs, search paths).\\n    *   **Logic and Symbolic AI:** While deep learning is prominent, symbolic AI (rules-based systems, knowledge representation, expert systems) still relies on formal logic (propositional and predicate calculus) for reasoning and inference.\\n    *   **Graph Theory:** Essential for pathfinding, social network analysis, and representing complex relationships within data.\\n\\n5.  **Problem Formulation and Rigor:**\\n    *   **Precise Problem Definition:** Math provides the rigorous framework to precisely define problems (e.g., defining a loss function, formulating a reward signal, specifying constraints).\\n    *   **Formal Proofs and Guarantees:** For critical applications, mathematical proofs can provide guarantees about the behavior, stability, or optimality of an AI system.\\n\\nIn essence, AI agents don\\'t \"learn math\" in the human sense of sitting in a classroom. Instead, their very construction, their ability to process information, learn from experience, make decisions, and interact with the world, is entirely predicated on mathematical principles and operations. Math is the blueprint, the building blocks, and the operational logic of artificial intelligence.', type='output_text', logprobs=None)], role='assistant', status='completed', type='message'), type='message_output_item')], raw_responses=[ModelResponse(output=[ResponseOutputMessage(id='__fake_id__', content=[ResponseOutputText(annotations=[], text='Learning math isn\\'t just \"useful\" for AI agents; it\\'s the fundamental language and operating system they run on. AI, particularly modern machine learning, is essentially applied mathematics.\\n\\nHere\\'s why math is indispensable for AI agents:\\n\\n1.  **Data Representation and Manipulation (Linear Algebra):**\\n    *   **Vectors and Matrices:** Almost all data an AI agent processes – images, text, audio, numerical datasets – are represented as vectors or matrices (tensors). Linear algebra provides the tools to store, organize, and manipulate this high-dimensional data efficiently.\\n    *   **Neural Networks:** The core of deep learning models are layers of interconnected \"neurons,\" where information flows as matrix multiplications and vector additions. The weights and biases of a neural network are matrices and vectors that are adjusted during training.\\n    *   **Transformations:** Operations like rotations, scaling, and projections (crucial for computer vision or dimensionality reduction like PCA) are all described and performed using linear algebra.\\n\\n2.  **Learning and Optimization (Calculus & Optimization Theory):**\\n    *   **Gradient Descent:** This is the bedrock of how most machine learning models learn. Calculus (specifically, differential calculus) allows AI agents to compute the \"gradient\" of a loss function – essentially, the direction and magnitude of the steepest ascent or descent. By moving in the direction of the negative gradient, the agent minimizes its error and learns from data.\\n    *   **Backpropagation:** The algorithm that allows neural networks to efficiently learn from their errors relies heavily on the chain rule from calculus to compute gradients and update weights across multiple layers.\\n    *   **Optimization:** AI agents are constantly trying to find the \"best\" solution – whether it\\'s minimizing a prediction error, maximizing a reward in reinforcement learning, or finding the optimal policy. Optimization theory provides the algorithms and principles for finding these optimal solutions under various constraints.\\n\\n3.  **Uncertainty and Inference (Probability & Statistics):**\\n    *   **Real-World Noise:** The world is inherently noisy and uncertain. AI agents need to reason under this uncertainty. Probability theory provides the framework to quantify and manage this.\\n    *   **Prediction and Classification:** Many AI models are built on probabilistic foundations (e.g., logistic regression, Naive Bayes, Gaussian Mixture Models). They output probabilities of a certain event or class membership.\\n    *   **Bayesian Inference:** Allows agents to update their beliefs about the world based on new evidence, crucial for robust decision-making and filtering noise.\\n    *   **Data Analysis and Evaluation:** Statistics enables agents (or their creators) to understand the underlying distribution of data, evaluate the performance of models, and make statistically significant conclusions.\\n\\n4.  **Decision Making and Reasoning (Discrete Math & Logic):**\\n    *   **Algorithms and Complexity:** Discrete math (set theory, graph theory, combinatorics) provides the foundation for designing efficient algorithms, understanding their complexity (how they scale with data), and representing relationships between entities (e.g., knowledge graphs, search paths).\\n    *   **Logic and Symbolic AI:** While deep learning is prominent, symbolic AI (rules-based systems, knowledge representation, expert systems) still relies on formal logic (propositional and predicate calculus) for reasoning and inference.\\n    *   **Graph Theory:** Essential for pathfinding, social network analysis, and representing complex relationships within data.\\n\\n5.  **Problem Formulation and Rigor:**\\n    *   **Precise Problem Definition:** Math provides the rigorous framework to precisely define problems (e.g., defining a loss function, formulating a reward signal, specifying constraints).\\n    *   **Formal Proofs and Guarantees:** For critical applications, mathematical proofs can provide guarantees about the behavior, stability, or optimality of an AI system.\\n\\nIn essence, AI agents don\\'t \"learn math\" in the human sense of sitting in a classroom. Instead, their very construction, their ability to process information, learn from experience, make decisions, and interact with the world, is entirely predicated on mathematical principles and operations. Math is the blueprint, the building blocks, and the operational logic of artificial intelligence.', type='output_text', logprobs=None)], role='assistant', status='completed', type='message')], usage=Usage(requests=1, input_tokens=16, input_tokens_details=InputTokensDetails(cached_tokens=0), output_tokens=859, output_tokens_details=OutputTokensDetails(reasoning_tokens=0), total_tokens=1854), response_id=None)], final_output='Learning math isn\\'t just \"useful\" for AI agents; it\\'s the fundamental language and operating system they run on. AI, particularly modern machine learning, is essentially applied mathematics.\\n\\nHere\\'s why math is indispensable for AI agents:\\n\\n1.  **Data Representation and Manipulation (Linear Algebra):**\\n    *   **Vectors and Matrices:** Almost all data an AI agent processes – images, text, audio, numerical datasets – are represented as vectors or matrices (tensors). Linear algebra provides the tools to store, organize, and manipulate this high-dimensional data efficiently.\\n    *   **Neural Networks:** The core of deep learning models are layers of interconnected \"neurons,\" where information flows as matrix multiplications and vector additions. The weights and biases of a neural network are matrices and vectors that are adjusted during training.\\n    *   **Transformations:** Operations like rotations, scaling, and projections (crucial for computer vision or dimensionality reduction like PCA) are all described and performed using linear algebra.\\n\\n2.  **Learning and Optimization (Calculus & Optimization Theory):**\\n    *   **Gradient Descent:** This is the bedrock of how most machine learning models learn. Calculus (specifically, differential calculus) allows AI agents to compute the \"gradient\" of a loss function – essentially, the direction and magnitude of the steepest ascent or descent. By moving in the direction of the negative gradient, the agent minimizes its error and learns from data.\\n    *   **Backpropagation:** The algorithm that allows neural networks to efficiently learn from their errors relies heavily on the chain rule from calculus to compute gradients and update weights across multiple layers.\\n    *   **Optimization:** AI agents are constantly trying to find the \"best\" solution – whether it\\'s minimizing a prediction error, maximizing a reward in reinforcement learning, or finding the optimal policy. Optimization theory provides the algorithms and principles for finding these optimal solutions under various constraints.\\n\\n3.  **Uncertainty and Inference (Probability & Statistics):**\\n    *   **Real-World Noise:** The world is inherently noisy and uncertain. AI agents need to reason under this uncertainty. Probability theory provides the framework to quantify and manage this.\\n    *   **Prediction and Classification:** Many AI models are built on probabilistic foundations (e.g., logistic regression, Naive Bayes, Gaussian Mixture Models). They output probabilities of a certain event or class membership.\\n    *   **Bayesian Inference:** Allows agents to update their beliefs about the world based on new evidence, crucial for robust decision-making and filtering noise.\\n    *   **Data Analysis and Evaluation:** Statistics enables agents (or their creators) to understand the underlying distribution of data, evaluate the performance of models, and make statistically significant conclusions.\\n\\n4.  **Decision Making and Reasoning (Discrete Math & Logic):**\\n    *   **Algorithms and Complexity:** Discrete math (set theory, graph theory, combinatorics) provides the foundation for designing efficient algorithms, understanding their complexity (how they scale with data), and representing relationships between entities (e.g., knowledge graphs, search paths).\\n    *   **Logic and Symbolic AI:** While deep learning is prominent, symbolic AI (rules-based systems, knowledge representation, expert systems) still relies on formal logic (propositional and predicate calculus) for reasoning and inference.\\n    *   **Graph Theory:** Essential for pathfinding, social network analysis, and representing complex relationships within data.\\n\\n5.  **Problem Formulation and Rigor:**\\n    *   **Precise Problem Definition:** Math provides the rigorous framework to precisely define problems (e.g., defining a loss function, formulating a reward signal, specifying constraints).\\n    *   **Formal Proofs and Guarantees:** For critical applications, mathematical proofs can provide guarantees about the behavior, stability, or optimality of an AI system.\\n\\nIn essence, AI agents don\\'t \"learn math\" in the human sense of sitting in a classroom. Instead, their very construction, their ability to process information, learn from experience, make decisions, and interact with the world, is entirely predicated on mathematical principles and operations. Math is the blueprint, the building blocks, and the operational logic of artificial intelligence.', input_guardrail_results=[], output_guardrail_results=[], context_wrapper=RunContextWrapper(context=None, usage=Usage(requests=1, input_tokens=16, input_tokens_details=InputTokensDetails(cached_tokens=0), output_tokens=859, output_tokens_details=OutputTokensDetails(reasoning_tokens=0), total_tokens=1854)), _last_agent=Agent(name='MathAgent', handoff_description=None, tools=[], mcp_servers=[], mcp_config={}, instructions='You are a helpful math assistant.', prompt=None, handoffs=[], model=<agents.models.openai_chatcompletions.OpenAIChatCompletionsModel object at 0x7a63c6ffc190>, model_settings=ModelSettings(temperature=None, top_p=None, frequency_penalty=None, presence_penalty=None, tool_choice=None, parallel_tool_calls=None, truncation=None, max_tokens=None, reasoning=None, metadata=None, store=None, include_usage=None, response_include=None, top_logprobs=None, extra_query=None, extra_body=None, extra_headers=None, extra_args=None), input_guardrails=[], output_guardrails=[], output_type=None, hooks=None, tool_use_behavior='run_llm_again', reset_tool_choice=True))"
            ]
          },
          "metadata": {},
          "execution_count": 9
        }
      ],
      "source": [
        "result"
      ]
    },
    {
      "cell_type": "markdown",
      "metadata": {
        "id": "1m8xnCs4KKG5"
      },
      "source": [
        "# 💬 Step 3: Running Agent Asynchronously"
      ]
    },
    {
      "cell_type": "code",
      "execution_count": 10,
      "metadata": {
        "colab": {
          "base_uri": "https://localhost:8080/"
        },
        "collapsed": true,
        "id": "jZA-iSR9KMJ9",
        "outputId": "434b964d-2ee2-45c0-b357-af5828259095"
      },
      "outputs": [
        {
          "output_type": "stream",
          "name": "stdout",
          "text": [
            "Recursion in programming is a powerful and elegant concept where a function calls itself, directly or indirectly, to solve a problem. It's like looking up a word in a dictionary, and the definition of that word itself refers to another word that you then have to look up.\n",
            "\n",
            "At its core, recursion is about breaking down a complex problem into smaller, similar subproblems until you reach a simple enough case that can be solved directly.\n",
            "\n",
            "### The Core Principles of a Recursive Function:\n",
            "\n",
            "Every well-designed recursive function must have two main parts:\n",
            "\n",
            "1.  **Base Case:** This is the condition that tells the function when to stop recursing. Without a base case, the function would call itself indefinitely, leading to an infinite loop and eventually a \"Stack Overflow\" error (because each call consumes memory on the call stack). The base case is the simplest version of the problem that can be solved without further recursion.\n",
            "\n",
            "2.  **Recursive Step (or Recursive Call):** This is where the function calls itself with a modified input, typically moving closer to the base case. The idea is to solve a smaller piece of the original problem, relying on the recursive call to solve the rest.\n",
            "\n",
            "### How Recursion Works (The Call Stack):\n",
            "\n",
            "When a function is called, the program creates a \"stack frame\" on the **call stack**. This frame stores information about the function call, such as its local variables, parameters, and the point in the code where it should return after completion.\n",
            "\n",
            "With recursion:\n",
            "1.  The initial function call is pushed onto the stack.\n",
            "2.  When the function calls itself (the recursive step), a *new* stack frame is created for *that* call and pushed on top of the previous one.\n",
            "3.  This continues until the **base case** is reached.\n",
            "4.  Once the base case is hit, the function returns a value. This causes its stack frame to be popped off.\n",
            "5.  The calling function then receives this returned value, completes its own calculations, and returns its result, popping its frame off the stack.\n",
            "6.  This process unwinds until the very first function call completes and its frame is popped, and the final result is returned to the original caller.\n",
            "\n",
            "### Common Use Cases for Recursion:\n",
            "\n",
            "Recursion is particularly well-suited for problems that can be naturally broken down into smaller, self-similar instances. Some common examples include:\n",
            "\n",
            "*   **Mathematical functions:** Factorial, Fibonacci sequence.\n",
            "*   **Tree and Graph Traversal:** Depth-First Search (DFS) is inherently recursive.\n",
            "*   **Divide and Conquer Algorithms:** Merge Sort, Quick Sort, binary search.\n",
            "*   **Fractals:** Generating self-similar geometric patterns.\n",
            "*   **Parsing:** Analyzing and processing structured data (e.g., expressions, JSON).\n",
            "*   **Backtracking problems:** Finding paths, solving mazes, Sudoku solvers.\n",
            "\n",
            "### Advantages of Recursion:\n",
            "\n",
            "*   **Elegance and Readability:** For certain problems (especially those involving recursive data structures like trees), the recursive solution can be much cleaner and more intuitive to understand than an iterative one. It often directly mirrors the mathematical definition of the problem.\n",
            "*   **Simplifies Complex Problems:** It allows you to tackle complex problems by breaking them into manageable, similar sub-problems.\n",
            "\n",
            "### Disadvantages of Recursion:\n",
            "\n",
            "*   **Performance Overhead:** Each function call involves overhead (creating a new stack frame, pushing/popping from the stack), which can make recursive solutions slower than iterative ones for the same problem.\n",
            "*   **Memory Usage:** Each recursive call adds a frame to the call stack. For deep recursion (many calls before reaching the base case), this can lead to excessive memory consumption and eventually a **Stack Overflow Error**.\n",
            "*   **Debugging Difficulty:** Tracing the execution flow of a recursive function can be more challenging than tracing a loop, as the control jumps back and forth.\n",
            "*   **Not Always Intuitive:** For beginners, understanding how recursive calls resolve and unwind can be confusing.\n",
            "\n",
            "### Example: Calculating Factorial\n",
            "\n",
            "The factorial of a non-negative integer `n`, denoted as `n!`, is the product of all positive integers less than or equal to `n`.\n",
            "*   `5! = 5 * 4 * 3 * 2 * 1 = 120`\n",
            "*   By definition, `0! = 1`.\n",
            "\n",
            "Notice the recursive definition: `n! = n * (n-1)!`\n",
            "\n",
            "Let's implement this recursively in Python:\n",
            "\n",
            "```python\n",
            "def factorial(n):\n",
            "    # 1. Base Case:\n",
            "    if n == 0:\n",
            "        return 1\n",
            "    # 2. Recursive Step:\n",
            "    else:\n",
            "        return n * factorial(n - 1)\n",
            "\n",
            "# Test cases\n",
            "print(f\"Factorial of 0: {factorial(0)}\") # Output: Factorial of 0: 1\n",
            "print(f\"Factorial of 1: {factorial(1)}\") # Output: Factorial of 1: 1\n",
            "print(f\"Factorial of 5: {factorial(5)}\") # Output: Factorial of 5: 120\n",
            "# print(factorial(-1)) # This would lead to infinite recursion and Stack Overflow!\n",
            "```\n",
            "\n",
            "**Let's trace `factorial(3)`:**\n",
            "\n",
            "1.  `factorial(3)` is called. `n` is 3.\n",
            "    *   `n` is not 0.\n",
            "    *   It returns `3 * factorial(2)`\n",
            "2.  `factorial(2)` is called. `n` is 2.\n",
            "    *   `n` is not 0.\n",
            "    *   It returns `2 * factorial(1)`\n",
            "3.  `factorial(1)` is called. `n` is 1.\n",
            "    *   `n` is not 0.\n",
            "    *   It returns `1 * factorial(0)`\n",
            "4.  `factorial(0)` is called. `n` is 0.\n",
            "    *   `n` **is** 0 (Base Case!).\n",
            "    *   It returns `1`.\n",
            "5.  Now the calls unwind:\n",
            "    *   `factorial(1)` receives `1` from `factorial(0)`. It calculates `1 * 1 = 1`. It returns `1`.\n",
            "    *   `factorial(2)` receives `1` from `factorial(1)`. It calculates `2 * 1 = 2`. It returns `2`.\n",
            "    *   `factorial(3)` receives `2` from `factorial(2)`. It calculates `3 * 2 = 6`. It returns `6`.\n",
            "\n",
            "The final result is 6.\n",
            "\n",
            "In summary, recursion is a powerful programming technique that, when used appropriately, can lead to elegant and concise solutions, especially for problems with inherent self-similarity. However, it's crucial to understand its mechanics, including the base case, recursive step, and the role of the call stack, to avoid common pitfalls like infinite recursion and stack overflow errors.\n"
          ]
        }
      ],
      "source": [
        "import asyncio\n",
        "\n",
        "async def main():\n",
        "\n",
        "    result: Runner = await Runner.run(math_agent, \"Tell me about recursion in programming.\")\n",
        "\n",
        "    print(result.final_output)\n",
        "\n",
        "\n",
        "asyncio.run(main())"
      ]
    },
    {
      "cell_type": "markdown",
      "metadata": {
        "id": "7RKgPtw2XlJs"
      },
      "source": [
        "## Example 1:\n",
        "### 👨‍🍳🍽️ Recipe Bot"
      ]
    },
    {
      "cell_type": "code",
      "execution_count": 11,
      "metadata": {
        "id": "0LzWsFBvapjz"
      },
      "outputs": [],
      "source": [
        "set_tracing_disabled(disabled=True)\n",
        "\n",
        "# Client Setup for Connecting to Gemini\n",
        "external_client:AsyncOpenAI = AsyncOpenAI(\n",
        "    api_key=gemini_api_key,\n",
        "    base_url=\"https://generativelanguage.googleapis.com/v1beta/openai/\",\n",
        ")\n",
        "\n",
        "#Initialize model\n",
        "model:OpenAIChatCompletionsModel = OpenAIChatCompletionsModel(\n",
        "    model=\"gemini-2.5-flash\",\n",
        "    openai_client=external_client\n",
        ")\n",
        "\n",
        "def main():\n",
        "  # Create the Recipe Agent\n",
        "  agent = Agent(\n",
        "      name=\"RecipeBot\",\n",
        "      instructions=(\n",
        "          \"\"\"You are a helpful recipe assistant. A user will give you a few ingredients\n",
        "          they have at home, and you will suggest one simple and quick recipe using only those items.\n",
        "          Keep it short, step-by-step, and easy for beginners to cook.\"\"\"\n",
        "      ),\n",
        "      model=model\n",
        "  )\n",
        "\n",
        "  print(\"\\n🍳 What can I cook today?\\n\")\n",
        "  ingredients = \"eggs, tomatoes, onions, and bread\"\n",
        "  result:Runner = Runner.run_sync(agent, f\"I have these at home: {ingredients}. What can I cook?\")\n",
        "\n",
        "  print(result.final_output)"
      ]
    },
    {
      "cell_type": "code",
      "execution_count": 12,
      "metadata": {
        "colab": {
          "base_uri": "https://localhost:8080/"
        },
        "id": "DyfXjUXsawYr",
        "outputId": "f3003dcd-b9e4-4ae4-93e2-e083bf212f44"
      },
      "outputs": [
        {
          "output_type": "stream",
          "name": "stdout",
          "text": [
            "\n",
            "🍳 What can I cook today?\n",
            "\n",
            "Here's a simple recipe for **Savory Egg Scramble with Tomato & Onion Toast**:\n",
            "\n",
            "**Ingredients:**\n",
            "*   2-3 eggs\n",
            "*   1/2 tomato\n",
            "*   1/4 onion\n",
            "*   2 slices of bread\n",
            "*   A little oil or butter (if you have it, otherwise you can dry cook a bit)\n",
            "*   Salt and pepper to taste\n",
            "\n",
            "**Instructions:**\n",
            "\n",
            "1.  **Prep Veggies:** Dice the tomato and onion into small pieces.\n",
            "2.  **Sauté:** Heat a pan over medium heat. Add a tiny bit of oil/butter (or dry pan if none) and cook the diced onion for 2-3 minutes until softened. Add the diced tomato and cook for another 2 minutes.\n",
            "3.  **Scramble Eggs:** While the veggies cook, crack the eggs into a bowl, add a pinch of salt and pepper, and whisk lightly. Pour the whisked eggs into the pan with the cooked vegetables. Stir gently as they cook until the eggs are set but still soft.\n",
            "4.  **Toast Bread:** While the eggs finish, toast your bread slices.\n",
            "5.  **Serve:** Spoon the savory egg scramble onto your toasted bread. Enjoy!\n"
          ]
        }
      ],
      "source": [
        "if __name__ == \"__main__\":\n",
        "    main()"
      ]
    }
  ],
  "metadata": {
    "colab": {
      "provenance": [],
      "include_colab_link": true
    },
    "kernelspec": {
      "display_name": "Python 3",
      "name": "python3"
    },
    "language_info": {
      "name": "python"
    }
  },
  "nbformat": 4,
  "nbformat_minor": 0
}